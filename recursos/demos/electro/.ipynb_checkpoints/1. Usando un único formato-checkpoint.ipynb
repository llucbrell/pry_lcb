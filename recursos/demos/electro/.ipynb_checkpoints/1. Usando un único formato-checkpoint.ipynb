{
 "cells": [
  {
   "cell_type": "markdown",
   "metadata": {},
   "source": [
    "# Usando un único formato de archivo"
   ]
  },
  {
   "cell_type": "markdown",
   "metadata": {},
   "source": [
    "Para un mejor tratamiento de las imágenes deberíamos convertir todas las imágnes a un único formato. El mejor formato para usar con las librerías de OpenCV es JPG."
   ]
  },
  {
   "cell_type": "markdown",
   "metadata": {},
   "source": [
    "* Si quieres probar el código borra primero las imágenes de formato .jpg de la carpeta /recursos/electro/imagenes/1\n",
    "* De esta manera, se puede apreciar mejor, que se crean nuevas imágenes."
   ]
  },
  {
   "cell_type": "markdown",
   "metadata": {},
   "source": [
    "### La librería PILLOW"
   ]
  },
  {
   "cell_type": "markdown",
   "metadata": {},
   "source": [
    "La primera forma de resolver el ejercicio es, usando la librería [PILLOW](https://pillow.readthedocs.io/en/3.1.x/index.html) de python para convertir las imágenes. Aquí, como ejemplo transformaremos una imagen del formato png al formato jpg. Esta librería, es muy potente y está especializada en el tratamiento de imágenes."
   ]
  },
  {
   "cell_type": "markdown",
   "metadata": {},
   "source": [
    "Primero se importa la librería."
   ]
  },
  {
   "cell_type": "code",
   "execution_count": 7,
   "metadata": {},
   "outputs": [],
   "source": [
    "from PIL import Image"
   ]
  },
  {
   "cell_type": "markdown",
   "metadata": {},
   "source": [
    "Para la conversión, se utiliza el siguiente código."
   ]
  },
  {
   "cell_type": "code",
   "execution_count": 11,
   "metadata": {},
   "outputs": [],
   "source": [
    "im = Image.open('imagenes/1/e1.png')\n",
    "#im.show() # Muestra la imagen en el visor de imágenes del sistema\n",
    "im = im.convert(\"RGB\") # Convertimos la imagen a RGB pues el formato jpg no soporta el canal alpha (RGBA) de png\n",
    "im.save('imagenes/1/ePILL.jpg') # Guardamos la imagen ahora como una en formato jpg"
   ]
  },
  {
   "cell_type": "markdown",
   "metadata": {},
   "source": [
    "Ahora si navegas al directorio /imagenes/1 encontrarás una imágen llamada ePILL.jpg que es una copia de e1.png de la misma carpeta, pero en formato jpg."
   ]
  },
  {
   "cell_type": "markdown",
   "metadata": {},
   "source": [
    "### ¿Y si se usa la librería OpenCV?"
   ]
  },
  {
   "cell_type": "markdown",
   "metadata": {},
   "source": [
    "La respuesta a esta pregunta es, que por supuesto es más conveniente. El usar esta librería, supone un ahorro de recursos en la memoria del sistema. No se necesita importar una librería para imágenes si vamos a usar la librería OpenCV con posterioridad. "
   ]
  },
  {
   "cell_type": "markdown",
   "metadata": {},
   "source": [
    "La librería Glob, servirá para almacenar imágenes y la librería cv2 (OpenCV) para convertir esas imágenes."
   ]
  },
  {
   "cell_type": "code",
   "execution_count": 9,
   "metadata": {},
   "outputs": [],
   "source": [
    "from glob import glob                                                           \n",
    "import cv2 "
   ]
  },
  {
   "cell_type": "markdown",
   "metadata": {},
   "source": [
    "Se crea un bucle que lee sólo las imágenes con terminación PNG y las vuelve a escribir, ahora en formato JPG."
   ]
  },
  {
   "cell_type": "code",
   "execution_count": 10,
   "metadata": {},
   "outputs": [],
   "source": [
    "pngs = glob('imagenes/1/*.png')\n",
    "\n",
    "for j in pngs:\n",
    "    img = cv2.imread(j)\n",
    "    cv2.imwrite(j[:-3] + 'jpg', img)"
   ]
  }
 ],
 "metadata": {
  "kernelspec": {
   "display_name": "Python 3",
   "language": "python",
   "name": "python3"
  },
  "language_info": {
   "codemirror_mode": {
    "name": "ipython",
    "version": 3
   },
   "file_extension": ".py",
   "mimetype": "text/x-python",
   "name": "python",
   "nbconvert_exporter": "python",
   "pygments_lexer": "ipython3",
   "version": "3.6.9"
  }
 },
 "nbformat": 4,
 "nbformat_minor": 2
}
